{
  "nbformat": 4,
  "nbformat_minor": 0,
  "metadata": {
    "colab": {
      "provenance": [],
      "authorship_tag": "ABX9TyM5cfX7mEDTRPgnViIkqji2",
      "include_colab_link": true
    },
    "kernelspec": {
      "name": "python3",
      "display_name": "Python 3"
    },
    "language_info": {
      "name": "python"
    }
  },
  "cells": [
    {
      "cell_type": "markdown",
      "metadata": {
        "id": "view-in-github",
        "colab_type": "text"
      },
      "source": [
        "<a href=\"https://colab.research.google.com/github/codeforbiology/python/blob/main/Converting%20DNA%20to%20RNA.ipynb\" target=\"_parent\"><img src=\"https://colab.research.google.com/assets/colab-badge.svg\" alt=\"Open In Colab\"/></a>"
      ]
    },
    {
      "cell_type": "markdown",
      "source": [
        "#Converting DNA sequence to mRNA transcript"
      ],
      "metadata": {
        "id": "eqMmupZAlS9U"
      }
    },
    {
      "cell_type": "code",
      "source": [
        "dna = input(\"Please input your DNA sequence (Plain text)\") #Input only ATGC, no FASTA file is allowed\n",
        "print(\"Your DNA sequence is: \",dna)"
      ],
      "metadata": {
        "colab": {
          "base_uri": "https://localhost:8080/"
        },
        "id": "fCb1Q8LklfUP",
        "outputId": "7474a5cb-2892-4730-d911-82809fe8e675"
      },
      "execution_count": null,
      "outputs": [
        {
          "output_type": "stream",
          "name": "stdout",
          "text": [
            "Please input your DNA sequence (Plain text)ATGCGTATATGGCTATCGTCATGCATCTAG\n",
            "Your DNA sequence is:  ATGCGTATATGGCTATCGTCATGCATCTAG\n"
          ]
        }
      ]
    },
    {
      "cell_type": "code",
      "source": [
        "gc = dna.count(\"G\")+dna.count(\"C\") #calculate total number of G and C\n",
        "content = (gc/len(dna))*100 #calculating GC content (%)\n",
        "\n",
        "print(f\"Total number of G and C is: {gc}\\nGC content of your DNA sequence is: {round(content, 2)}%\")\n",
        "rna = dna.replace(\"T\", \"U\")  #replacing T with U in RNA\n",
        "print(f\"Here is your mRNA sequence:\\n {rna}\")\n",
        "print(\"\\nThank you for using my code. \\n -Abu Reza\")"
      ],
      "metadata": {
        "colab": {
          "base_uri": "https://localhost:8080/"
        },
        "id": "8rYTYxbrlyPp",
        "outputId": "0e230db2-15af-45aa-fc95-54f43991245f"
      },
      "execution_count": 15,
      "outputs": [
        {
          "output_type": "stream",
          "name": "stdout",
          "text": [
            "Total number of G and C is: 13\n",
            "GC content of your DNA sequence is: 43.33%\n",
            "Here is your mRNA sequence:\n",
            " AUGCGUAUAUGGCUAUCGUCAUGCAUCUAG\n",
            "\n",
            "Thank you for using my code. \n",
            " -Abu Reza\n"
          ]
        }
      ]
    }
  ]
}