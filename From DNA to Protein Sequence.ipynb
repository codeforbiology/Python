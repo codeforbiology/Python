{
  "nbformat": 4,
  "nbformat_minor": 0,
  "metadata": {
    "colab": {
      "provenance": [],
      "authorship_tag": "ABX9TyOg+uGIKbnqso7FHeKSgGvf",
      "include_colab_link": true
    },
    "kernelspec": {
      "name": "python3",
      "display_name": "Python 3"
    },
    "language_info": {
      "name": "python"
    }
  },
  "cells": [
    {
      "cell_type": "markdown",
      "metadata": {
        "id": "view-in-github",
        "colab_type": "text"
      },
      "source": [
        "<a href=\"https://colab.research.google.com/github/codeforbiology/python/blob/main/From%20DNA%20to%20Protein%20Sequence.ipynb\" target=\"_parent\"><img src=\"https://colab.research.google.com/assets/colab-badge.svg\" alt=\"Open In Colab\"/></a>"
      ]
    },
    {
      "cell_type": "markdown",
      "source": [
        "#Converting DNA to RNA"
      ],
      "metadata": {
        "id": "soQOKzuwpFZh"
      }
    },
    {
      "cell_type": "code",
      "source": [
        "dna = input(\"Please input your DNA sequence as plain text: \")\n",
        "print(f\"Your DNA sequence is: {dna}\")\n",
        "gc = dna.count(\"G\")+dna.count(\"C\")\n",
        "length = len(dna)\n",
        "gc_content = (gc/length)*100\n",
        "print(\"lenght: \", length)\n",
        "print(f\"The number of G and C in your DNA sequence is: {gc}\")\n",
        "print(f\"The GC content of your DNA sequence is: {round(gc_content, 2)}%\")\n",
        "rna = dna.replace(\"T\", \"U\")\n",
        "print(f\"Your possible mRNA sequence is: {rna}\")\n"
      ],
      "metadata": {
        "colab": {
          "base_uri": "https://localhost:8080/"
        },
        "id": "b9mCzlxgpXpA",
        "outputId": "acf43efe-c1f1-463e-aff0-6386acec9eb0"
      },
      "execution_count": 13,
      "outputs": [
        {
          "output_type": "stream",
          "name": "stdout",
          "text": [
            "Please input your DNA sequence as plain text: ATCGTGTACGTGACAGATGACAGAT\n",
            "Your DNA sequence is: ATCGTGTACGTGACAGATGACAGAT\n",
            "lenght:  25\n",
            "The number of G and C in your DNA sequence is: 11\n",
            "The GC content of your DNA sequence is: 44.0%\n",
            "Your possible mRNA sequence is: AUCGUGUACGUGACAGAUGACAGAU\n"
          ]
        }
      ]
    },
    {
      "cell_type": "markdown",
      "source": [
        "#DNA seq to possible protein"
      ],
      "metadata": {
        "id": "-EyogW_RMNXF"
      }
    },
    {
      "cell_type": "code",
      "source": [
        "#Converting DNA to RNA\n",
        "dna = input(\"Please input your DNA sequence as plain text: \")\n",
        "print(f\"Your DNA sequence is: {dna}\")\n",
        "gc = dna.count(\"G\")+dna.count(\"C\")\n",
        "length = len(dna)\n",
        "gc_content = (gc/length)*100\n",
        "print(f\"Total lenght: {length} bp\")\n",
        "print(f\"The number of G and C in your DNA sequence is: {gc}\")\n",
        "print(f\"The GC content of your DNA sequence is: {round(gc_content, 2)}%\")\n",
        "rna = dna.replace(\"T\", \"U\")\n",
        "print(f\"Your possible mRNA sequence is: {rna}\")\n",
        "\n",
        "\n",
        "def translate(rna):\n",
        "    codon_table = {\n",
        "        'UUU': 'F', 'UUC': 'F', 'UUA': 'L', 'UUG': 'L',\n",
        "        'CUU': 'L', 'CUC': 'L', 'CUA': 'L', 'CUG': 'L',\n",
        "        'AUU': 'I', 'AUC': 'I', 'AUA': 'I', 'AUG': 'M',\n",
        "        'GUU': 'V', 'GUC': 'V', 'GUA': 'V', 'GUG': 'V',\n",
        "        'UCU': 'S', 'UCC': 'S', 'UCA': 'S', 'UCG': 'S',\n",
        "        'CCU': 'P', 'CCC': 'P', 'CCA': 'P', 'CCG': 'P',\n",
        "        'ACU': 'T', 'ACC': 'T', 'ACA': 'T', 'ACG': 'T',\n",
        "        'GCU': 'A', 'GCC': 'A', 'GCA': 'A', 'GCG': 'A',\n",
        "        'UAU': 'Y', 'UAC': 'Y', 'UAA': '*', 'UAG': '*',\n",
        "        'CAU': 'H', 'CAC': 'H', 'CAA': 'Q', 'CAG': 'Q',\n",
        "        'AAU': 'N', 'AAC': 'N', 'AAA': 'K', 'AAG': 'K',\n",
        "        'GAU': 'D', 'GAC': 'D', 'GAA': 'E', 'GAG': 'E',\n",
        "        'UGU': 'C', 'UGC': 'C', 'UGA': '*', 'UGG': 'W',\n",
        "        'CGU': 'R', 'CGC': 'R', 'CGA': 'R', 'CGG': 'R',\n",
        "        'AGU': 'S', 'AGC': 'S', 'AGA': 'R', 'AGG': 'R',\n",
        "        'GGU': 'G', 'GGC': 'G', 'GGA': 'G', 'GGG': 'G'\n",
        "    }\n",
        "    protein = \"\"\n",
        "    for i in range(0, len(rna), 3):\n",
        "        codon = rna[i:i+3]\n",
        "        if len(codon) == 3:\n",
        "            amino_acid = codon_table.get(codon, 'X')\n",
        "            if amino_acid == '*':\n",
        "                protein += amino_acid\n",
        "                print(\"Translation terminated due to stop codon UGA, UAG or UAA.\")\n",
        "                break  # Stop translation when a stop codon is encountered\n",
        "            else:\n",
        "                protein += amino_acid\n",
        "    return protein\n",
        "\n",
        "protein_sequence = translate(rna)\n",
        "print(f\"Your possible protein sequence is: {protein_sequence}\")"
      ],
      "metadata": {
        "colab": {
          "base_uri": "https://localhost:8080/"
        },
        "id": "b_qhyd3eNu78",
        "outputId": "1d93cb6a-cdef-4ad6-8d1d-8af42f27818b"
      },
      "execution_count": 14,
      "outputs": [
        {
          "output_type": "stream",
          "name": "stdout",
          "text": [
            "Please input your DNA sequence as plain text: ATGGGGAAGATGGCAGCGGCCGTGGGCTCTGTGGCGACTCTGGCGACTGAGCCCGGGGAGGACGCCTTTCGGAAACTTTTCCGCTTCTACCGTCAGAGCCGGCCCGGGACCGCAGACCTGGAAGGGGTCATCGACTTCTCGGCGGCCCACGCAGCCCGTGGCAAGGGTCCTGGTGCCCAAAAGGTGATCAAATCTCAGCTAAATGTGTCTTCTGTCAGTGAGCAGAATGCATATAGAGCAGGTCTTCAGCCCGTCAGCAAGTGGCAAGCCTATGGACTCAAAGGCTATCCTGGGTTTATTTTTATCCCAAACCCCTTCCTCCCAGGTTACCAGTGGCACTGGGTGAAACAGTGCCTTAAGTTATATTCCCAGAAACCTAATGTATGTAACCTGGACAAACACATGTCTAAAGAAGAGACCCAAGATCTGTGGGAACAGAGCAAAGAGTTCCTGAGGTATAAAGAAGCGACTAAACGGAGACCCCGAAGTTTACTGGAGAAACTGCGTTGGGTGACCGTAGGCTACCATTATAACTGGGACAGTAAGAAATACTCAGCAGATCATTACACACCTTTCCCTTCTGACCTGGGTTTCCTCTCAGAGCAAGTAGCCGCTGCCTGTGGATTTGAGGATTTCCGAGCTGAAGCAGGGATCCTGAATTACTACCGCCTGGACTCCACACTGGGAATCCACGTAGACAGATCTGAGCTAGATCACTCCAAACCCTTGCTGTCATTCAGCTTTGGACAGTCCGCCATCTTTCTCCTGGGTGGTCTTCAAAGGGATGAGGCCCCCACGGCCATGTTTATGCACAGTGGTGACATCATGATAATGTCGGGTTTCAGCCGCCTCTTGAACCACGCAGTCCCTCGTGTCCTTCCAAATCCAGAAGGGGAAGGCCTGCCTCACTGCCTAGAGGCACCTCTCCCTGCTGTCCTCCCGAGAGATTCAATGGTAGAGCCTTGTTCTATGGAGGACTGGCAGGTGTGTGCCAGCTACTTGAAGACCGCTCGTGTTAACATGACTGTCCGACAGGTCCTGGCCACAGACCAGAATTTCCCTCTAGAACCCATCGAGGATGAAAAAAGAGACATCAGTACAGAAGGTTTCTGCCATCTGGATGACCAGAATAGCGAAGTAAAACGGGCCAGGATAAACCCTCACAGCTTG\n",
            "Your DNA sequence is: ATGGGGAAGATGGCAGCGGCCGTGGGCTCTGTGGCGACTCTGGCGACTGAGCCCGGGGAGGACGCCTTTCGGAAACTTTTCCGCTTCTACCGTCAGAGCCGGCCCGGGACCGCAGACCTGGAAGGGGTCATCGACTTCTCGGCGGCCCACGCAGCCCGTGGCAAGGGTCCTGGTGCCCAAAAGGTGATCAAATCTCAGCTAAATGTGTCTTCTGTCAGTGAGCAGAATGCATATAGAGCAGGTCTTCAGCCCGTCAGCAAGTGGCAAGCCTATGGACTCAAAGGCTATCCTGGGTTTATTTTTATCCCAAACCCCTTCCTCCCAGGTTACCAGTGGCACTGGGTGAAACAGTGCCTTAAGTTATATTCCCAGAAACCTAATGTATGTAACCTGGACAAACACATGTCTAAAGAAGAGACCCAAGATCTGTGGGAACAGAGCAAAGAGTTCCTGAGGTATAAAGAAGCGACTAAACGGAGACCCCGAAGTTTACTGGAGAAACTGCGTTGGGTGACCGTAGGCTACCATTATAACTGGGACAGTAAGAAATACTCAGCAGATCATTACACACCTTTCCCTTCTGACCTGGGTTTCCTCTCAGAGCAAGTAGCCGCTGCCTGTGGATTTGAGGATTTCCGAGCTGAAGCAGGGATCCTGAATTACTACCGCCTGGACTCCACACTGGGAATCCACGTAGACAGATCTGAGCTAGATCACTCCAAACCCTTGCTGTCATTCAGCTTTGGACAGTCCGCCATCTTTCTCCTGGGTGGTCTTCAAAGGGATGAGGCCCCCACGGCCATGTTTATGCACAGTGGTGACATCATGATAATGTCGGGTTTCAGCCGCCTCTTGAACCACGCAGTCCCTCGTGTCCTTCCAAATCCAGAAGGGGAAGGCCTGCCTCACTGCCTAGAGGCACCTCTCCCTGCTGTCCTCCCGAGAGATTCAATGGTAGAGCCTTGTTCTATGGAGGACTGGCAGGTGTGTGCCAGCTACTTGAAGACCGCTCGTGTTAACATGACTGTCCGACAGGTCCTGGCCACAGACCAGAATTTCCCTCTAGAACCCATCGAGGATGAAAAAAGAGACATCAGTACAGAAGGTTTCTGCCATCTGGATGACCAGAATAGCGAAGTAAAACGGGCCAGGATAAACCCTCACAGCTTG\n",
            "Total lenght: 1170 bp\n",
            "The number of G and C in your DNA sequence is: 614\n",
            "The GC content of your DNA sequence is: 52.48%\n",
            "Your possible mRNA sequence is: AUGGGGAAGAUGGCAGCGGCCGUGGGCUCUGUGGCGACUCUGGCGACUGAGCCCGGGGAGGACGCCUUUCGGAAACUUUUCCGCUUCUACCGUCAGAGCCGGCCCGGGACCGCAGACCUGGAAGGGGUCAUCGACUUCUCGGCGGCCCACGCAGCCCGUGGCAAGGGUCCUGGUGCCCAAAAGGUGAUCAAAUCUCAGCUAAAUGUGUCUUCUGUCAGUGAGCAGAAUGCAUAUAGAGCAGGUCUUCAGCCCGUCAGCAAGUGGCAAGCCUAUGGACUCAAAGGCUAUCCUGGGUUUAUUUUUAUCCCAAACCCCUUCCUCCCAGGUUACCAGUGGCACUGGGUGAAACAGUGCCUUAAGUUAUAUUCCCAGAAACCUAAUGUAUGUAACCUGGACAAACACAUGUCUAAAGAAGAGACCCAAGAUCUGUGGGAACAGAGCAAAGAGUUCCUGAGGUAUAAAGAAGCGACUAAACGGAGACCCCGAAGUUUACUGGAGAAACUGCGUUGGGUGACCGUAGGCUACCAUUAUAACUGGGACAGUAAGAAAUACUCAGCAGAUCAUUACACACCUUUCCCUUCUGACCUGGGUUUCCUCUCAGAGCAAGUAGCCGCUGCCUGUGGAUUUGAGGAUUUCCGAGCUGAAGCAGGGAUCCUGAAUUACUACCGCCUGGACUCCACACUGGGAAUCCACGUAGACAGAUCUGAGCUAGAUCACUCCAAACCCUUGCUGUCAUUCAGCUUUGGACAGUCCGCCAUCUUUCUCCUGGGUGGUCUUCAAAGGGAUGAGGCCCCCACGGCCAUGUUUAUGCACAGUGGUGACAUCAUGAUAAUGUCGGGUUUCAGCCGCCUCUUGAACCACGCAGUCCCUCGUGUCCUUCCAAAUCCAGAAGGGGAAGGCCUGCCUCACUGCCUAGAGGCACCUCUCCCUGCUGUCCUCCCGAGAGAUUCAAUGGUAGAGCCUUGUUCUAUGGAGGACUGGCAGGUGUGUGCCAGCUACUUGAAGACCGCUCGUGUUAACAUGACUGUCCGACAGGUCCUGGCCACAGACCAGAAUUUCCCUCUAGAACCCAUCGAGGAUGAAAAAAGAGACAUCAGUACAGAAGGUUUCUGCCAUCUGGAUGACCAGAAUAGCGAAGUAAAACGGGCCAGGAUAAACCCUCACAGCUUG\n",
            "Your possible protein sequence is: MGKMAAAVGSVATLATEPGEDAFRKLFRFYRQSRPGTADLEGVIDFSAAHAARGKGPGAQKVIKSQLNVSSVSEQNAYRAGLQPVSKWQAYGLKGYPGFIFIPNPFLPGYQWHWVKQCLKLYSQKPNVCNLDKHMSKEETQDLWEQSKEFLRYKEATKRRPRSLLEKLRWVTVGYHYNWDSKKYSADHYTPFPSDLGFLSEQVAAACGFEDFRAEAGILNYYRLDSTLGIHVDRSELDHSKPLLSFSFGQSAIFLLGGLQRDEAPTAMFMHSGDIMIMSGFSRLLNHAVPRVLPNPEGEGLPHCLEAPLPAVLPRDSMVEPCSMEDWQVCASYLKTARVNMTVRQVLATDQNFPLEPIEDEKRDISTEGFCHLDDQNSEVKRARINPHSL\n"
          ]
        }
      ]
    }
  ]
}