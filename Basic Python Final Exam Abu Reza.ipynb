{
  "nbformat": 4,
  "nbformat_minor": 0,
  "metadata": {
    "colab": {
      "provenance": [],
      "authorship_tag": "ABX9TyNStYq4A+sRmmi576zSF7pQ",
      "include_colab_link": true
    },
    "kernelspec": {
      "name": "python3",
      "display_name": "Python 3"
    },
    "language_info": {
      "name": "python"
    }
  },
  "cells": [
    {
      "cell_type": "markdown",
      "metadata": {
        "id": "view-in-github",
        "colab_type": "text"
      },
      "source": [
        "<a href=\"https://colab.research.google.com/github/codeforbiology/python/blob/main/Basic%20Python%20Final%20Exam%20Abu%20Reza.ipynb\" target=\"_parent\"><img src=\"https://colab.research.google.com/assets/colab-badge.svg\" alt=\"Open In Colab\"/></a>"
      ]
    },
    {
      "cell_type": "markdown",
      "source": [
        "#1. Write a program to check if a given DNA sequence is valid. A valid DNA sequence only contains the characters A, T, G, and C."
      ],
      "metadata": {
        "id": "C-xu5nvogjdL"
      }
    },
    {
      "cell_type": "code",
      "source": [
        "def valid(sequence):\n",
        "    valid_nucleotides = {'A', 'T', 'G', 'C'}\n",
        "    sequence = sequence.upper()\n",
        "    return all(nitrogenous_base in valid_nucleotides for nitrogenous_base in sequence)\n",
        "\n",
        "\n",
        "dna_sequence = input(str(\"Input your DNA sequence: \"))\n",
        "print(f\"Your DNA sequence is: {dna_sequence}\\n\")\n",
        "\n",
        "if valid(dna_sequence):\n",
        "    print(\"This is a valid DNA sequence. It contains only valid nucleotide bases\")\n",
        "else:\n",
        "    not_base = dna_sequence.find\n",
        "    print(\"This is not a valid DNA sequence. It might contain invalid characters other than 'A', 'T', 'G' or 'C'.\")\n",
        "\n",
        "\n"
      ],
      "metadata": {
        "colab": {
          "base_uri": "https://localhost:8080/"
        },
        "id": "wHMwiPVDfcTe",
        "outputId": "825cdd1d-8e81-440e-dffb-7588ecbaa578"
      },
      "execution_count": 59,
      "outputs": [
        {
          "output_type": "stream",
          "name": "stdout",
          "text": [
            "Input your DNA sequence: atgtcgtga\n",
            "Your DNA sequence is: atgtcgtga\n",
            "\n",
            "This is a valid DNA sequence. It contains only valid nucleotide bases\n"
          ]
        }
      ]
    },
    {
      "cell_type": "markdown",
      "source": [
        "#2.\tWrite a Python program to find all unique elements in a list and sort them in ascending order."
      ],
      "metadata": {
        "id": "M5psfBOelpOi"
      }
    },
    {
      "cell_type": "code",
      "source": [
        "def unique_elements(input_list):\n",
        "    unique_sorted = sorted(set(input_list))\n",
        "    return unique_sorted\n",
        "\n",
        "user_input = input(\"Enter a list of numbers separated by commas: \")\n",
        "\n",
        "input_list = input_list = [int(num) for num in user_input.split(',')]\n",
        "\n",
        "result = unique_elements(input_list)\n",
        "print(\"Unique elements sorted in ascending order:\", result)\n"
      ],
      "metadata": {
        "colab": {
          "base_uri": "https://localhost:8080/"
        },
        "id": "hGIKdA66mM2K",
        "outputId": "9f03def7-4b90-4332-e888-0546679e9fc0"
      },
      "execution_count": 63,
      "outputs": [
        {
          "output_type": "stream",
          "name": "stdout",
          "text": [
            "Enter a list of numbers separated by commas: 5,1,2,3,1,5,4,6,8\n",
            "Unique elements sorted in ascending order: [1, 2, 3, 4, 5, 6, 8]\n"
          ]
        }
      ]
    },
    {
      "cell_type": "markdown",
      "source": [
        "#3.\tCreate a DataFrame from a dictionary containing names, ages, and cities. Then, filter the rows where age is greater than 25.\n",
        "\n"
      ],
      "metadata": {
        "id": "HvvumJs3nl6T"
      }
    },
    {
      "cell_type": "code",
      "source": [
        "import pandas as pd\n",
        "\n",
        "data = {'Name': ['Reza', 'Shovon', 'Keya', 'Audity', 'Salatia'],\n",
        "        'Age': [27, 30, 22, 28, 21],\n",
        "        'City': ['Naogaon', 'Jhenaidah', 'Chapainawabganj', 'Gazipur', 'Rajshahi']}\n",
        "\n",
        "df = pd.DataFrame(data)\n",
        "\n",
        "filtered_df = df[df['Age'] > 25]\n",
        "filtered_df"
      ],
      "metadata": {
        "colab": {
          "base_uri": "https://localhost:8080/",
          "height": 143
        },
        "id": "3nGs9CzhoUCk",
        "outputId": "8e788612-fd7c-41bb-f7b3-f323943ce710"
      },
      "execution_count": 23,
      "outputs": [
        {
          "output_type": "execute_result",
          "data": {
            "text/plain": [
              "     Name  Age       City\n",
              "0    Reza   27    Naogaon\n",
              "1  Shovon   30  Jhenaidah\n",
              "3  Audity   28    Gazipur"
            ],
            "text/html": [
              "\n",
              "  <div id=\"df-6be11ea8-cbd2-4036-9a8f-146da8b0a2ab\" class=\"colab-df-container\">\n",
              "    <div>\n",
              "<style scoped>\n",
              "    .dataframe tbody tr th:only-of-type {\n",
              "        vertical-align: middle;\n",
              "    }\n",
              "\n",
              "    .dataframe tbody tr th {\n",
              "        vertical-align: top;\n",
              "    }\n",
              "\n",
              "    .dataframe thead th {\n",
              "        text-align: right;\n",
              "    }\n",
              "</style>\n",
              "<table border=\"1\" class=\"dataframe\">\n",
              "  <thead>\n",
              "    <tr style=\"text-align: right;\">\n",
              "      <th></th>\n",
              "      <th>Name</th>\n",
              "      <th>Age</th>\n",
              "      <th>City</th>\n",
              "    </tr>\n",
              "  </thead>\n",
              "  <tbody>\n",
              "    <tr>\n",
              "      <th>0</th>\n",
              "      <td>Reza</td>\n",
              "      <td>27</td>\n",
              "      <td>Naogaon</td>\n",
              "    </tr>\n",
              "    <tr>\n",
              "      <th>1</th>\n",
              "      <td>Shovon</td>\n",
              "      <td>30</td>\n",
              "      <td>Jhenaidah</td>\n",
              "    </tr>\n",
              "    <tr>\n",
              "      <th>3</th>\n",
              "      <td>Audity</td>\n",
              "      <td>28</td>\n",
              "      <td>Gazipur</td>\n",
              "    </tr>\n",
              "  </tbody>\n",
              "</table>\n",
              "</div>\n",
              "    <div class=\"colab-df-buttons\">\n",
              "\n",
              "  <div class=\"colab-df-container\">\n",
              "    <button class=\"colab-df-convert\" onclick=\"convertToInteractive('df-6be11ea8-cbd2-4036-9a8f-146da8b0a2ab')\"\n",
              "            title=\"Convert this dataframe to an interactive table.\"\n",
              "            style=\"display:none;\">\n",
              "\n",
              "  <svg xmlns=\"http://www.w3.org/2000/svg\" height=\"24px\" viewBox=\"0 -960 960 960\">\n",
              "    <path d=\"M120-120v-720h720v720H120Zm60-500h600v-160H180v160Zm220 220h160v-160H400v160Zm0 220h160v-160H400v160ZM180-400h160v-160H180v160Zm440 0h160v-160H620v160ZM180-180h160v-160H180v160Zm440 0h160v-160H620v160Z\"/>\n",
              "  </svg>\n",
              "    </button>\n",
              "\n",
              "  <style>\n",
              "    .colab-df-container {\n",
              "      display:flex;\n",
              "      gap: 12px;\n",
              "    }\n",
              "\n",
              "    .colab-df-convert {\n",
              "      background-color: #E8F0FE;\n",
              "      border: none;\n",
              "      border-radius: 50%;\n",
              "      cursor: pointer;\n",
              "      display: none;\n",
              "      fill: #1967D2;\n",
              "      height: 32px;\n",
              "      padding: 0 0 0 0;\n",
              "      width: 32px;\n",
              "    }\n",
              "\n",
              "    .colab-df-convert:hover {\n",
              "      background-color: #E2EBFA;\n",
              "      box-shadow: 0px 1px 2px rgba(60, 64, 67, 0.3), 0px 1px 3px 1px rgba(60, 64, 67, 0.15);\n",
              "      fill: #174EA6;\n",
              "    }\n",
              "\n",
              "    .colab-df-buttons div {\n",
              "      margin-bottom: 4px;\n",
              "    }\n",
              "\n",
              "    [theme=dark] .colab-df-convert {\n",
              "      background-color: #3B4455;\n",
              "      fill: #D2E3FC;\n",
              "    }\n",
              "\n",
              "    [theme=dark] .colab-df-convert:hover {\n",
              "      background-color: #434B5C;\n",
              "      box-shadow: 0px 1px 3px 1px rgba(0, 0, 0, 0.15);\n",
              "      filter: drop-shadow(0px 1px 2px rgba(0, 0, 0, 0.3));\n",
              "      fill: #FFFFFF;\n",
              "    }\n",
              "  </style>\n",
              "\n",
              "    <script>\n",
              "      const buttonEl =\n",
              "        document.querySelector('#df-6be11ea8-cbd2-4036-9a8f-146da8b0a2ab button.colab-df-convert');\n",
              "      buttonEl.style.display =\n",
              "        google.colab.kernel.accessAllowed ? 'block' : 'none';\n",
              "\n",
              "      async function convertToInteractive(key) {\n",
              "        const element = document.querySelector('#df-6be11ea8-cbd2-4036-9a8f-146da8b0a2ab');\n",
              "        const dataTable =\n",
              "          await google.colab.kernel.invokeFunction('convertToInteractive',\n",
              "                                                    [key], {});\n",
              "        if (!dataTable) return;\n",
              "\n",
              "        const docLinkHtml = 'Like what you see? Visit the ' +\n",
              "          '<a target=\"_blank\" href=https://colab.research.google.com/notebooks/data_table.ipynb>data table notebook</a>'\n",
              "          + ' to learn more about interactive tables.';\n",
              "        element.innerHTML = '';\n",
              "        dataTable['output_type'] = 'display_data';\n",
              "        await google.colab.output.renderOutput(dataTable, element);\n",
              "        const docLink = document.createElement('div');\n",
              "        docLink.innerHTML = docLinkHtml;\n",
              "        element.appendChild(docLink);\n",
              "      }\n",
              "    </script>\n",
              "  </div>\n",
              "\n",
              "\n",
              "<div id=\"df-9d494db7-e931-497a-94b5-875605c0a604\">\n",
              "  <button class=\"colab-df-quickchart\" onclick=\"quickchart('df-9d494db7-e931-497a-94b5-875605c0a604')\"\n",
              "            title=\"Suggest charts\"\n",
              "            style=\"display:none;\">\n",
              "\n",
              "<svg xmlns=\"http://www.w3.org/2000/svg\" height=\"24px\"viewBox=\"0 0 24 24\"\n",
              "     width=\"24px\">\n",
              "    <g>\n",
              "        <path d=\"M19 3H5c-1.1 0-2 .9-2 2v14c0 1.1.9 2 2 2h14c1.1 0 2-.9 2-2V5c0-1.1-.9-2-2-2zM9 17H7v-7h2v7zm4 0h-2V7h2v10zm4 0h-2v-4h2v4z\"/>\n",
              "    </g>\n",
              "</svg>\n",
              "  </button>\n",
              "\n",
              "<style>\n",
              "  .colab-df-quickchart {\n",
              "      --bg-color: #E8F0FE;\n",
              "      --fill-color: #1967D2;\n",
              "      --hover-bg-color: #E2EBFA;\n",
              "      --hover-fill-color: #174EA6;\n",
              "      --disabled-fill-color: #AAA;\n",
              "      --disabled-bg-color: #DDD;\n",
              "  }\n",
              "\n",
              "  [theme=dark] .colab-df-quickchart {\n",
              "      --bg-color: #3B4455;\n",
              "      --fill-color: #D2E3FC;\n",
              "      --hover-bg-color: #434B5C;\n",
              "      --hover-fill-color: #FFFFFF;\n",
              "      --disabled-bg-color: #3B4455;\n",
              "      --disabled-fill-color: #666;\n",
              "  }\n",
              "\n",
              "  .colab-df-quickchart {\n",
              "    background-color: var(--bg-color);\n",
              "    border: none;\n",
              "    border-radius: 50%;\n",
              "    cursor: pointer;\n",
              "    display: none;\n",
              "    fill: var(--fill-color);\n",
              "    height: 32px;\n",
              "    padding: 0;\n",
              "    width: 32px;\n",
              "  }\n",
              "\n",
              "  .colab-df-quickchart:hover {\n",
              "    background-color: var(--hover-bg-color);\n",
              "    box-shadow: 0 1px 2px rgba(60, 64, 67, 0.3), 0 1px 3px 1px rgba(60, 64, 67, 0.15);\n",
              "    fill: var(--button-hover-fill-color);\n",
              "  }\n",
              "\n",
              "  .colab-df-quickchart-complete:disabled,\n",
              "  .colab-df-quickchart-complete:disabled:hover {\n",
              "    background-color: var(--disabled-bg-color);\n",
              "    fill: var(--disabled-fill-color);\n",
              "    box-shadow: none;\n",
              "  }\n",
              "\n",
              "  .colab-df-spinner {\n",
              "    border: 2px solid var(--fill-color);\n",
              "    border-color: transparent;\n",
              "    border-bottom-color: var(--fill-color);\n",
              "    animation:\n",
              "      spin 1s steps(1) infinite;\n",
              "  }\n",
              "\n",
              "  @keyframes spin {\n",
              "    0% {\n",
              "      border-color: transparent;\n",
              "      border-bottom-color: var(--fill-color);\n",
              "      border-left-color: var(--fill-color);\n",
              "    }\n",
              "    20% {\n",
              "      border-color: transparent;\n",
              "      border-left-color: var(--fill-color);\n",
              "      border-top-color: var(--fill-color);\n",
              "    }\n",
              "    30% {\n",
              "      border-color: transparent;\n",
              "      border-left-color: var(--fill-color);\n",
              "      border-top-color: var(--fill-color);\n",
              "      border-right-color: var(--fill-color);\n",
              "    }\n",
              "    40% {\n",
              "      border-color: transparent;\n",
              "      border-right-color: var(--fill-color);\n",
              "      border-top-color: var(--fill-color);\n",
              "    }\n",
              "    60% {\n",
              "      border-color: transparent;\n",
              "      border-right-color: var(--fill-color);\n",
              "    }\n",
              "    80% {\n",
              "      border-color: transparent;\n",
              "      border-right-color: var(--fill-color);\n",
              "      border-bottom-color: var(--fill-color);\n",
              "    }\n",
              "    90% {\n",
              "      border-color: transparent;\n",
              "      border-bottom-color: var(--fill-color);\n",
              "    }\n",
              "  }\n",
              "</style>\n",
              "\n",
              "  <script>\n",
              "    async function quickchart(key) {\n",
              "      const quickchartButtonEl =\n",
              "        document.querySelector('#' + key + ' button');\n",
              "      quickchartButtonEl.disabled = true;  // To prevent multiple clicks.\n",
              "      quickchartButtonEl.classList.add('colab-df-spinner');\n",
              "      try {\n",
              "        const charts = await google.colab.kernel.invokeFunction(\n",
              "            'suggestCharts', [key], {});\n",
              "      } catch (error) {\n",
              "        console.error('Error during call to suggestCharts:', error);\n",
              "      }\n",
              "      quickchartButtonEl.classList.remove('colab-df-spinner');\n",
              "      quickchartButtonEl.classList.add('colab-df-quickchart-complete');\n",
              "    }\n",
              "    (() => {\n",
              "      let quickchartButtonEl =\n",
              "        document.querySelector('#df-9d494db7-e931-497a-94b5-875605c0a604 button');\n",
              "      quickchartButtonEl.style.display =\n",
              "        google.colab.kernel.accessAllowed ? 'block' : 'none';\n",
              "    })();\n",
              "  </script>\n",
              "</div>\n",
              "\n",
              "  <div id=\"id_d5c6a194-718f-44fd-8a75-3bd147248b5b\">\n",
              "    <style>\n",
              "      .colab-df-generate {\n",
              "        background-color: #E8F0FE;\n",
              "        border: none;\n",
              "        border-radius: 50%;\n",
              "        cursor: pointer;\n",
              "        display: none;\n",
              "        fill: #1967D2;\n",
              "        height: 32px;\n",
              "        padding: 0 0 0 0;\n",
              "        width: 32px;\n",
              "      }\n",
              "\n",
              "      .colab-df-generate:hover {\n",
              "        background-color: #E2EBFA;\n",
              "        box-shadow: 0px 1px 2px rgba(60, 64, 67, 0.3), 0px 1px 3px 1px rgba(60, 64, 67, 0.15);\n",
              "        fill: #174EA6;\n",
              "      }\n",
              "\n",
              "      [theme=dark] .colab-df-generate {\n",
              "        background-color: #3B4455;\n",
              "        fill: #D2E3FC;\n",
              "      }\n",
              "\n",
              "      [theme=dark] .colab-df-generate:hover {\n",
              "        background-color: #434B5C;\n",
              "        box-shadow: 0px 1px 3px 1px rgba(0, 0, 0, 0.15);\n",
              "        filter: drop-shadow(0px 1px 2px rgba(0, 0, 0, 0.3));\n",
              "        fill: #FFFFFF;\n",
              "      }\n",
              "    </style>\n",
              "    <button class=\"colab-df-generate\" onclick=\"generateWithVariable('filtered_df')\"\n",
              "            title=\"Generate code using this dataframe.\"\n",
              "            style=\"display:none;\">\n",
              "\n",
              "  <svg xmlns=\"http://www.w3.org/2000/svg\" height=\"24px\"viewBox=\"0 0 24 24\"\n",
              "       width=\"24px\">\n",
              "    <path d=\"M7,19H8.4L18.45,9,17,7.55,7,17.6ZM5,21V16.75L18.45,3.32a2,2,0,0,1,2.83,0l1.4,1.43a1.91,1.91,0,0,1,.58,1.4,1.91,1.91,0,0,1-.58,1.4L9.25,21ZM18.45,9,17,7.55Zm-12,3A5.31,5.31,0,0,0,4.9,8.1,5.31,5.31,0,0,0,1,6.5,5.31,5.31,0,0,0,4.9,4.9,5.31,5.31,0,0,0,6.5,1,5.31,5.31,0,0,0,8.1,4.9,5.31,5.31,0,0,0,12,6.5,5.46,5.46,0,0,0,6.5,12Z\"/>\n",
              "  </svg>\n",
              "    </button>\n",
              "    <script>\n",
              "      (() => {\n",
              "      const buttonEl =\n",
              "        document.querySelector('#id_d5c6a194-718f-44fd-8a75-3bd147248b5b button.colab-df-generate');\n",
              "      buttonEl.style.display =\n",
              "        google.colab.kernel.accessAllowed ? 'block' : 'none';\n",
              "\n",
              "      buttonEl.onclick = () => {\n",
              "        google.colab.notebook.generateWithVariable('filtered_df');\n",
              "      }\n",
              "      })();\n",
              "    </script>\n",
              "  </div>\n",
              "\n",
              "    </div>\n",
              "  </div>\n"
            ],
            "application/vnd.google.colaboratory.intrinsic+json": {
              "type": "dataframe",
              "variable_name": "filtered_df",
              "summary": "{\n  \"name\": \"filtered_df\",\n  \"rows\": 3,\n  \"fields\": [\n    {\n      \"column\": \"Name\",\n      \"properties\": {\n        \"dtype\": \"string\",\n        \"num_unique_values\": 3,\n        \"samples\": [\n          \"Reza\",\n          \"Shovon\",\n          \"Audity\"\n        ],\n        \"semantic_type\": \"\",\n        \"description\": \"\"\n      }\n    },\n    {\n      \"column\": \"Age\",\n      \"properties\": {\n        \"dtype\": \"number\",\n        \"std\": 1,\n        \"min\": 27,\n        \"max\": 30,\n        \"num_unique_values\": 3,\n        \"samples\": [\n          27,\n          30,\n          28\n        ],\n        \"semantic_type\": \"\",\n        \"description\": \"\"\n      }\n    },\n    {\n      \"column\": \"City\",\n      \"properties\": {\n        \"dtype\": \"string\",\n        \"num_unique_values\": 3,\n        \"samples\": [\n          \"Naogaon\",\n          \"Jhenaidah\",\n          \"Gazipur\"\n        ],\n        \"semantic_type\": \"\",\n        \"description\": \"\"\n      }\n    }\n  ]\n}"
            }
          },
          "metadata": {},
          "execution_count": 23
        }
      ]
    },
    {
      "cell_type": "markdown",
      "source": [
        "#4.\tWrite a function celsius_to_fahrenheit(celsius) that takes a temperature in Celsius as input and returns the temperature in Fahrenheit.\n",
        "\n"
      ],
      "metadata": {
        "id": "rrqDhWCNoZR4"
      }
    },
    {
      "cell_type": "code",
      "source": [
        "def c_to_f_converter(celsius):\n",
        "    fahrenheit = (celsius * 9/5) + 32\n",
        "    return fahrenheit\n",
        "\n",
        "temperature_celsius = float(input(\"Enter the temperature in Celsius: \"))\n",
        "farenheit = c_to_f_converter(temperature_celsius)\n",
        "#print(f\"Your input is: {temperature_celsius} °C\")\n",
        "print(f\"Your converted temperature is: {farenheit:.2f}°F.\")\n"
      ],
      "metadata": {
        "colab": {
          "base_uri": "https://localhost:8080/"
        },
        "id": "EZmsLYZUp_gG",
        "outputId": "823f6300-27a5-491a-d4c1-db1cacdeb23a"
      },
      "execution_count": 46,
      "outputs": [
        {
          "output_type": "stream",
          "name": "stdout",
          "text": [
            "Enter the temperature in Celsius: 50\n",
            "Your input is: 50.0 °C\n",
            "Your converted temperature is: 122.00°F.\n"
          ]
        }
      ]
    },
    {
      "cell_type": "markdown",
      "source": [
        "#5.\tDefine two sets and performs union, intersection, difference operations."
      ],
      "metadata": {
        "id": "KzCL3ZhWsqnl"
      }
    },
    {
      "cell_type": "code",
      "source": [
        "set1 = set([1, 2, 3, 4, 5])\n",
        "set2 = set([4, 5, 6, 7, 8])\n",
        "\n",
        "union_set = set1 | set2\n",
        "print(\"Union:\", union_set)\n",
        "\n",
        "intersection_set = set1 & set2\n",
        "print(\"Intersection:\", intersection_set)\n",
        "\n",
        "difference_set = set1 - set2\n",
        "print(\"Difference (set1 - set2):\", difference_set)\n",
        "\n",
        "difference_set = set2 - set1\n",
        "print(\"Difference (set2 - set1):\", difference_set)"
      ],
      "metadata": {
        "colab": {
          "base_uri": "https://localhost:8080/"
        },
        "id": "Pd2QPEGKssjR",
        "outputId": "d92d008c-eb19-40a5-8bac-e1928b85a3ff"
      },
      "execution_count": 49,
      "outputs": [
        {
          "output_type": "stream",
          "name": "stdout",
          "text": [
            "Union: {1, 2, 3, 4, 5, 6, 7, 8}\n",
            "Intersection: {4, 5}\n",
            "Difference (set1 - set2): {1, 2, 3}\n",
            "Difference (set2 - set1): {8, 6, 7}\n"
          ]
        }
      ]
    },
    {
      "cell_type": "markdown",
      "source": [
        "#6.\n",
        "![Captffffure.PNG](data:image/png;base64,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)"
      ],
      "metadata": {
        "id": "Q24iMVW3uX7G"
      }
    },
    {
      "cell_type": "code",
      "source": [
        "import pandas as pd\n",
        "import matplotlib.pyplot as plt\n",
        "\n",
        "# Create the dataset\n",
        "data = {\n",
        "    'City': ['New York', 'Los Angeles', 'Chicago', 'Houston', 'Phoenix'],\n",
        "    'Temperature': [22, 25, 19, 30, 28],\n",
        "    'Humidity': [65, 70, 72, 80, 75]\n",
        "}\n",
        "\n",
        "df = pd.DataFrame(data)\n",
        "print(f\"{df}\\n \")\n",
        "\n",
        "average_temperature = df['Temperature'].mean()\n",
        "print(f\"Average Temperature: {average_temperature:.2f}°C\")\n",
        "\n",
        "\n",
        "plt.scatter(df['Temperature'], df['Humidity'], color='blue')\n",
        "plt.title('Temperature vs Humidity')\n",
        "plt.xlabel('Temperature (°C)')\n",
        "plt.ylabel('Humidity (%)')\n",
        "plt.grid(True)\n",
        "plt.show()\n"
      ],
      "metadata": {
        "colab": {
          "base_uri": "https://localhost:8080/",
          "height": 611
        },
        "id": "tduicz0yuG8S",
        "outputId": "5167ead4-5202-4f64-d368-cfc0702281cb"
      },
      "execution_count": 58,
      "outputs": [
        {
          "output_type": "stream",
          "name": "stdout",
          "text": [
            "          City  Temperature  Humidity\n",
            "0     New York           22        65\n",
            "1  Los Angeles           25        70\n",
            "2      Chicago           19        72\n",
            "3      Houston           30        80\n",
            "4      Phoenix           28        75\n",
            " \n",
            "Average Temperature: 24.80°C\n"
          ]
        },
        {
          "output_type": "display_data",
          "data": {
            "text/plain": [
              "<Figure size 640x480 with 1 Axes>"
            ],
            "image/png": "[encoded data removed]"
          },
          "metadata": {}
        }
      ]
    }
  ]
}